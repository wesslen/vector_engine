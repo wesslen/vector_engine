{
 "cells": [
  {
   "cell_type": "markdown",
   "metadata": {
    "id": "bJLQoimyVyQ8"
   },
   "source": [
    "### Uncomment and run the following cells if you work on Google Colab :) Don't forget to change your runtime type to GPU!"
   ]
  },
  {
   "cell_type": "code",
   "execution_count": 33,
   "metadata": {
    "colab": {
     "base_uri": "https://localhost:8080/"
    },
    "id": "rVV81xc3VyQ9",
    "outputId": "5f91275b-3caf-4588-d4bd-ec11089b1b71"
   },
   "outputs": [],
   "source": [
    "# !git clone https://github.com/kstathou/vector_engine"
   ]
  },
  {
   "cell_type": "code",
   "execution_count": 34,
   "metadata": {
    "colab": {
     "base_uri": "https://localhost:8080/"
    },
    "id": "C0lSFLw3VyRG",
    "outputId": "ae5c260a-7925-4bc6-8aac-b6800017d1e0"
   },
   "outputs": [],
   "source": [
    "# cd vector_engine"
   ]
  },
  {
   "cell_type": "code",
   "execution_count": 35,
   "metadata": {
    "colab": {
     "base_uri": "https://localhost:8080/",
     "height": 1000
    },
    "id": "5sOhWL6UVyRQ",
    "outputId": "e6f41a8c-d210-4b33-a1ac-4c3886253920"
   },
   "outputs": [],
   "source": [
    "# pip install -r requirements.txt"
   ]
  },
  {
   "cell_type": "markdown",
   "metadata": {
    "id": "vbnscDwgVyRW"
   },
   "source": [
    "### Let's begin!"
   ]
  },
  {
   "cell_type": "code",
   "execution_count": 1,
   "metadata": {
    "id": "v7ftrzzmVyRX"
   },
   "outputs": [],
   "source": [
    "%load_ext autoreload"
   ]
  },
  {
   "cell_type": "code",
   "execution_count": 2,
   "metadata": {
    "id": "fU2i4vlCVyRc"
   },
   "outputs": [],
   "source": [
    "%autoreload 2\n",
    "# Used to import data from S3.\n",
    "import pandas as pd\n",
    "# import s3fs\n",
    "\n",
    "# Used to create the dense document vectors.\n",
    "import torch\n",
    "from sentence_transformers import SentenceTransformer\n",
    "\n",
    "# Used to create and store the Faiss index.\n",
    "import faiss\n",
    "import numpy as np\n",
    "import pickle\n",
    "from pathlib import Path\n",
    "\n",
    "# Used to do vector searches and display the results.\n",
    "from vector_engine.utils import vector_search, id2details\n",
    "\n",
    "pd.read_json(\"data/posts.json\")\n",
    "\n",
    "# Instantiate the sentence-level DistilBERT\n",
    "model = SentenceTransformer('distilbert-base-nli-stsb-mean-tokens')\n",
    "# Check if GPU is available and use it\n",
    "if torch.cuda.is_available():\n",
    "    model = model.to(torch.device(\"cuda\"))\n",
    "print(model.device)\n",
    "\n",
    "# Convert abstracts to vectors\n",
    "embeddings = model.encode(posts.title.to_list(), show_progress_bar=True)\n",
    "\n",
    "# Step 1: Change data type\n",
    "embeddings = np.array([embedding for embedding in embeddings]).astype(\"float32\")\n",
    "\n",
    "# Step 2: Instantiate the index\n",
    "index = faiss.IndexFlatL2(embeddings.shape[1])\n",
    "\n",
    "# Step 3: Pass the index to IndexIDMap\n",
    "index = faiss.IndexIDMap(index)\n",
    "\n",
    "# Step 4: Add vectors and their IDs\n",
    "index.add_with_ids(embeddings, posts.id.values)\n",
    "\n",
    "print(f\"Number of vectors in the Faiss index: {index.ntotal}\")\n",
    "\n",
    "# Define project base directory\n",
    "# Change the index from 1 to 0 if you run this on Google Colab\n",
    "project_dir = Path('notebooks').resolve().parents[1]\n",
    "print(project_dir)\n",
    "\n",
    "# Serialise index and store it as a pickle\n",
    "with open(f\"{project_dir}/models/stack_faiss_index.pickle\", \"wb\") as h:\n",
    "    pickle.dump(faiss.serialize_index(index), h)\n",
    "    "
   ]
  },
  {
   "cell_type": "markdown",
   "metadata": {
    "id": "Kz5YBwU5VyRi"
   },
   "source": [
    "Stored and processed data in s3"
   ]
  },
  {
   "cell_type": "code",
   "execution_count": 3,
   "metadata": {
    "id": "VEANywYAVyRi"
   },
   "outputs": [],
   "source": [
    "# Use pandas to read files from S3 buckets!\n",
    "df = pd.read_csv('s3://vector-search-blog/misinformation_papers.csv')"
   ]
  },
  {
   "cell_type": "code",
   "execution_count": 20,
   "metadata": {},
   "outputs": [
    {
     "data": {
      "text/html": [
       "<div>\n",
       "<style scoped>\n",
       "    .dataframe tbody tr th:only-of-type {\n",
       "        vertical-align: middle;\n",
       "    }\n",
       "\n",
       "    .dataframe tbody tr th {\n",
       "        vertical-align: top;\n",
       "    }\n",
       "\n",
       "    .dataframe thead th {\n",
       "        text-align: right;\n",
       "    }\n",
       "</style>\n",
       "<table border=\"1\" class=\"dataframe\">\n",
       "  <thead>\n",
       "    <tr style=\"text-align: right;\">\n",
       "      <th></th>\n",
       "      <th>index</th>\n",
       "      <th>id</th>\n",
       "      <th>title</th>\n",
       "      <th>body</th>\n",
       "      <th>accepted_answer_id</th>\n",
       "      <th>answer_count</th>\n",
       "      <th>comment_count</th>\n",
       "      <th>community_owned_date</th>\n",
       "      <th>creation_date</th>\n",
       "      <th>favorite_count</th>\n",
       "      <th>...</th>\n",
       "      <th>last_edit_date</th>\n",
       "      <th>last_editor_display_name</th>\n",
       "      <th>last_editor_user_id</th>\n",
       "      <th>owner_display_name</th>\n",
       "      <th>owner_user_id</th>\n",
       "      <th>parent_id</th>\n",
       "      <th>post_type_id</th>\n",
       "      <th>score</th>\n",
       "      <th>tags</th>\n",
       "      <th>view_count</th>\n",
       "    </tr>\n",
       "  </thead>\n",
       "  <tbody>\n",
       "    <tr>\n",
       "      <th>0</th>\n",
       "      <td>0</td>\n",
       "      <td>30571099</td>\n",
       "      <td>NaN</td>\n",
       "      <td>&lt;p&gt;The best way I found to do it, is to genera...</td>\n",
       "      <td>NaN</td>\n",
       "      <td>NaN</td>\n",
       "      <td>0</td>\n",
       "      <td>NaN</td>\n",
       "      <td>1433154354770</td>\n",
       "      <td>NaN</td>\n",
       "      <td>...</td>\n",
       "      <td>1.433155e+12</td>\n",
       "      <td>None</td>\n",
       "      <td>3232601.0</td>\n",
       "      <td>None</td>\n",
       "      <td>3232601.0</td>\n",
       "      <td>27267951</td>\n",
       "      <td>2</td>\n",
       "      <td>0</td>\n",
       "      <td>NaN</td>\n",
       "      <td>NaN</td>\n",
       "    </tr>\n",
       "    <tr>\n",
       "      <th>1</th>\n",
       "      <td>1</td>\n",
       "      <td>30722980</td>\n",
       "      <td>NaN</td>\n",
       "      <td>&lt;p&gt;SQLPS will always return 0 if the command e...</td>\n",
       "      <td>NaN</td>\n",
       "      <td>NaN</td>\n",
       "      <td>0</td>\n",
       "      <td>NaN</td>\n",
       "      <td>1433823792770</td>\n",
       "      <td>NaN</td>\n",
       "      <td>...</td>\n",
       "      <td>NaN</td>\n",
       "      <td>None</td>\n",
       "      <td>NaN</td>\n",
       "      <td>None</td>\n",
       "      <td>1640611.0</td>\n",
       "      <td>27654548</td>\n",
       "      <td>2</td>\n",
       "      <td>0</td>\n",
       "      <td>NaN</td>\n",
       "      <td>NaN</td>\n",
       "    </tr>\n",
       "    <tr>\n",
       "      <th>2</th>\n",
       "      <td>2</td>\n",
       "      <td>30847183</td>\n",
       "      <td>NaN</td>\n",
       "      <td>&lt;p&gt;It is possible to assign a dynamic layout i...</td>\n",
       "      <td>NaN</td>\n",
       "      <td>NaN</td>\n",
       "      <td>0</td>\n",
       "      <td>NaN</td>\n",
       "      <td>1434376913367</td>\n",
       "      <td>NaN</td>\n",
       "      <td>...</td>\n",
       "      <td>NaN</td>\n",
       "      <td>None</td>\n",
       "      <td>NaN</td>\n",
       "      <td>None</td>\n",
       "      <td>1694735.0</td>\n",
       "      <td>27297648</td>\n",
       "      <td>2</td>\n",
       "      <td>0</td>\n",
       "      <td>NaN</td>\n",
       "      <td>NaN</td>\n",
       "    </tr>\n",
       "    <tr>\n",
       "      <th>3</th>\n",
       "      <td>3</td>\n",
       "      <td>30883342</td>\n",
       "      <td>NaN</td>\n",
       "      <td>&lt;p&gt;i have just started using html5 geolocation...</td>\n",
       "      <td>NaN</td>\n",
       "      <td>NaN</td>\n",
       "      <td>0</td>\n",
       "      <td>NaN</td>\n",
       "      <td>1434520761523</td>\n",
       "      <td>NaN</td>\n",
       "      <td>...</td>\n",
       "      <td>NaN</td>\n",
       "      <td>None</td>\n",
       "      <td>NaN</td>\n",
       "      <td>None</td>\n",
       "      <td>1521848.0</td>\n",
       "      <td>27523105</td>\n",
       "      <td>2</td>\n",
       "      <td>0</td>\n",
       "      <td>NaN</td>\n",
       "      <td>NaN</td>\n",
       "    </tr>\n",
       "    <tr>\n",
       "      <th>4</th>\n",
       "      <td>4</td>\n",
       "      <td>30599789</td>\n",
       "      <td>NaN</td>\n",
       "      <td>&lt;p&gt;Check the spelling of your stopwords. Malle...</td>\n",
       "      <td>NaN</td>\n",
       "      <td>NaN</td>\n",
       "      <td>0</td>\n",
       "      <td>NaN</td>\n",
       "      <td>1433257481253</td>\n",
       "      <td>NaN</td>\n",
       "      <td>...</td>\n",
       "      <td>1.444717e+12</td>\n",
       "      <td>None</td>\n",
       "      <td>2439905.0</td>\n",
       "      <td>None</td>\n",
       "      <td>2439905.0</td>\n",
       "      <td>27640825</td>\n",
       "      <td>2</td>\n",
       "      <td>1</td>\n",
       "      <td>NaN</td>\n",
       "      <td>NaN</td>\n",
       "    </tr>\n",
       "  </tbody>\n",
       "</table>\n",
       "<p>5 rows × 21 columns</p>\n",
       "</div>"
      ],
      "text/plain": [
       "   index        id  title                                               body  \\\n",
       "0      0  30571099    NaN  <p>The best way I found to do it, is to genera...   \n",
       "1      1  30722980    NaN  <p>SQLPS will always return 0 if the command e...   \n",
       "2      2  30847183    NaN  <p>It is possible to assign a dynamic layout i...   \n",
       "3      3  30883342    NaN  <p>i have just started using html5 geolocation...   \n",
       "4      4  30599789    NaN  <p>Check the spelling of your stopwords. Malle...   \n",
       "\n",
       "   accepted_answer_id  answer_count  comment_count  community_owned_date  \\\n",
       "0                 NaN           NaN              0                   NaN   \n",
       "1                 NaN           NaN              0                   NaN   \n",
       "2                 NaN           NaN              0                   NaN   \n",
       "3                 NaN           NaN              0                   NaN   \n",
       "4                 NaN           NaN              0                   NaN   \n",
       "\n",
       "   creation_date  favorite_count  ...  last_edit_date  \\\n",
       "0  1433154354770             NaN  ...    1.433155e+12   \n",
       "1  1433823792770             NaN  ...             NaN   \n",
       "2  1434376913367             NaN  ...             NaN   \n",
       "3  1434520761523             NaN  ...             NaN   \n",
       "4  1433257481253             NaN  ...    1.444717e+12   \n",
       "\n",
       "   last_editor_display_name last_editor_user_id  owner_display_name  \\\n",
       "0                      None           3232601.0                None   \n",
       "1                      None                 NaN                None   \n",
       "2                      None                 NaN                None   \n",
       "3                      None                 NaN                None   \n",
       "4                      None           2439905.0                None   \n",
       "\n",
       "  owner_user_id  parent_id  post_type_id  score  tags  view_count  \n",
       "0     3232601.0   27267951             2      0   NaN         NaN  \n",
       "1     1640611.0   27654548             2      0   NaN         NaN  \n",
       "2     1694735.0   27297648             2      0   NaN         NaN  \n",
       "3     1521848.0   27523105             2      0   NaN         NaN  \n",
       "4     2439905.0   27640825             2      1   NaN         NaN  \n",
       "\n",
       "[5 rows x 21 columns]"
      ]
     },
     "execution_count": 20,
     "metadata": {},
     "output_type": "execute_result"
    }
   ],
   "source": [
    "posts = pd.read_json(\"../data/answers.json\")\n",
    "posts.head()"
   ]
  },
  {
   "cell_type": "code",
   "execution_count": 22,
   "metadata": {},
   "outputs": [
    {
     "ename": "OutOfBoundsDatetime",
     "evalue": "cannot convert input with unit 's'",
     "output_type": "error",
     "traceback": [
      "\u001b[0;31m---------------------------------------------------------------------------\u001b[0m",
      "\u001b[0;31mOutOfBoundsDatetime\u001b[0m                       Traceback (most recent call last)",
      "\u001b[0;32m<ipython-input-22-ea4a57754aa4>\u001b[0m in \u001b[0;36m<module>\u001b[0;34m\u001b[0m\n\u001b[0;32m----> 1\u001b[0;31m \u001b[0mpd\u001b[0m\u001b[0;34m.\u001b[0m\u001b[0mto_datetime\u001b[0m\u001b[0;34m(\u001b[0m\u001b[0mposts\u001b[0m\u001b[0;34m[\u001b[0m\u001b[0;34m'creation_date'\u001b[0m\u001b[0;34m]\u001b[0m\u001b[0;34m,\u001b[0m \u001b[0munit\u001b[0m\u001b[0;34m=\u001b[0m\u001b[0;34m's'\u001b[0m\u001b[0;34m)\u001b[0m\u001b[0;34m\u001b[0m\u001b[0;34m\u001b[0m\u001b[0m\n\u001b[0m",
      "\u001b[0;32m~/anaconda3/lib/python3.8/site-packages/pandas/core/tools/datetimes.py\u001b[0m in \u001b[0;36mto_datetime\u001b[0;34m(arg, errors, dayfirst, yearfirst, utc, format, exact, unit, infer_datetime_format, origin, cache)\u001b[0m\n\u001b[1;32m    801\u001b[0m             \u001b[0mresult\u001b[0m \u001b[0;34m=\u001b[0m \u001b[0marg\u001b[0m\u001b[0;34m.\u001b[0m\u001b[0mmap\u001b[0m\u001b[0;34m(\u001b[0m\u001b[0mcache_array\u001b[0m\u001b[0;34m)\u001b[0m\u001b[0;34m\u001b[0m\u001b[0;34m\u001b[0m\u001b[0m\n\u001b[1;32m    802\u001b[0m         \u001b[0;32melse\u001b[0m\u001b[0;34m:\u001b[0m\u001b[0;34m\u001b[0m\u001b[0;34m\u001b[0m\u001b[0m\n\u001b[0;32m--> 803\u001b[0;31m             \u001b[0mvalues\u001b[0m \u001b[0;34m=\u001b[0m \u001b[0mconvert_listlike\u001b[0m\u001b[0;34m(\u001b[0m\u001b[0marg\u001b[0m\u001b[0;34m.\u001b[0m\u001b[0m_values\u001b[0m\u001b[0;34m,\u001b[0m \u001b[0mformat\u001b[0m\u001b[0;34m)\u001b[0m\u001b[0;34m\u001b[0m\u001b[0;34m\u001b[0m\u001b[0m\n\u001b[0m\u001b[1;32m    804\u001b[0m             \u001b[0mresult\u001b[0m \u001b[0;34m=\u001b[0m \u001b[0marg\u001b[0m\u001b[0;34m.\u001b[0m\u001b[0m_constructor\u001b[0m\u001b[0;34m(\u001b[0m\u001b[0mvalues\u001b[0m\u001b[0;34m,\u001b[0m \u001b[0mindex\u001b[0m\u001b[0;34m=\u001b[0m\u001b[0marg\u001b[0m\u001b[0;34m.\u001b[0m\u001b[0mindex\u001b[0m\u001b[0;34m,\u001b[0m \u001b[0mname\u001b[0m\u001b[0;34m=\u001b[0m\u001b[0marg\u001b[0m\u001b[0;34m.\u001b[0m\u001b[0mname\u001b[0m\u001b[0;34m)\u001b[0m\u001b[0;34m\u001b[0m\u001b[0;34m\u001b[0m\u001b[0m\n\u001b[1;32m    805\u001b[0m     \u001b[0;32melif\u001b[0m \u001b[0misinstance\u001b[0m\u001b[0;34m(\u001b[0m\u001b[0marg\u001b[0m\u001b[0;34m,\u001b[0m \u001b[0;34m(\u001b[0m\u001b[0mABCDataFrame\u001b[0m\u001b[0;34m,\u001b[0m \u001b[0mabc\u001b[0m\u001b[0;34m.\u001b[0m\u001b[0mMutableMapping\u001b[0m\u001b[0;34m)\u001b[0m\u001b[0;34m)\u001b[0m\u001b[0;34m:\u001b[0m\u001b[0;34m\u001b[0m\u001b[0;34m\u001b[0m\u001b[0m\n",
      "\u001b[0;32m~/anaconda3/lib/python3.8/site-packages/pandas/core/tools/datetimes.py\u001b[0m in \u001b[0;36m_convert_listlike_datetimes\u001b[0;34m(arg, format, name, tz, unit, errors, infer_datetime_format, dayfirst, yearfirst, exact)\u001b[0m\n\u001b[1;32m    337\u001b[0m         \u001b[0;32melse\u001b[0m\u001b[0;34m:\u001b[0m\u001b[0;34m\u001b[0m\u001b[0;34m\u001b[0m\u001b[0m\n\u001b[1;32m    338\u001b[0m \u001b[0;34m\u001b[0m\u001b[0m\n\u001b[0;32m--> 339\u001b[0;31m             result, tz_parsed = tslib.array_with_unit_to_datetime(\n\u001b[0m\u001b[1;32m    340\u001b[0m                 \u001b[0marg\u001b[0m\u001b[0;34m,\u001b[0m \u001b[0munit\u001b[0m\u001b[0;34m,\u001b[0m \u001b[0merrors\u001b[0m\u001b[0;34m=\u001b[0m\u001b[0merrors\u001b[0m\u001b[0;34m\u001b[0m\u001b[0;34m\u001b[0m\u001b[0m\n\u001b[1;32m    341\u001b[0m             )\n",
      "\u001b[0;32mpandas/_libs/tslib.pyx\u001b[0m in \u001b[0;36mpandas._libs.tslib.array_with_unit_to_datetime\u001b[0;34m()\u001b[0m\n",
      "\u001b[0;31mOutOfBoundsDatetime\u001b[0m: cannot convert input with unit 's'"
     ]
    }
   ],
   "source": [
    "pd.to_datetime(posts['creation_date'], unit='s')"
   ]
  },
  {
   "cell_type": "code",
   "execution_count": 4,
   "metadata": {
    "colab": {
     "base_uri": "https://localhost:8080/",
     "height": 143
    },
    "id": "HJXljSbYVyRn",
    "outputId": "1c180fbc-42a4-441a-da47-14f5cc21d826"
   },
   "outputs": [
    {
     "data": {
      "text/html": [
       "<div>\n",
       "<style scoped>\n",
       "    .dataframe tbody tr th:only-of-type {\n",
       "        vertical-align: middle;\n",
       "    }\n",
       "\n",
       "    .dataframe tbody tr th {\n",
       "        vertical-align: top;\n",
       "    }\n",
       "\n",
       "    .dataframe thead th {\n",
       "        text-align: right;\n",
       "    }\n",
       "</style>\n",
       "<table border=\"1\" class=\"dataframe\">\n",
       "  <thead>\n",
       "    <tr style=\"text-align: right;\">\n",
       "      <th></th>\n",
       "      <th>original_title</th>\n",
       "      <th>abstract</th>\n",
       "      <th>year</th>\n",
       "      <th>citations</th>\n",
       "      <th>id</th>\n",
       "      <th>is_EN</th>\n",
       "    </tr>\n",
       "  </thead>\n",
       "  <tbody>\n",
       "    <tr>\n",
       "      <th>0</th>\n",
       "      <td>When Corrections Fail: The Persistence of Poli...</td>\n",
       "      <td>An extensive literature addresses citizen igno...</td>\n",
       "      <td>2010</td>\n",
       "      <td>901</td>\n",
       "      <td>2132553681</td>\n",
       "      <td>1</td>\n",
       "    </tr>\n",
       "    <tr>\n",
       "      <th>1</th>\n",
       "      <td>A postmodern Pandora's box: anti-vaccination m...</td>\n",
       "      <td>The Internet plays a large role in disseminati...</td>\n",
       "      <td>2010</td>\n",
       "      <td>440</td>\n",
       "      <td>2117485795</td>\n",
       "      <td>1</td>\n",
       "    </tr>\n",
       "    <tr>\n",
       "      <th>2</th>\n",
       "      <td>Spread of (Mis)Information in Social Networks</td>\n",
       "      <td>We provide a model to investigate the tension ...</td>\n",
       "      <td>2010</td>\n",
       "      <td>278</td>\n",
       "      <td>2120015072</td>\n",
       "      <td>1</td>\n",
       "    </tr>\n",
       "  </tbody>\n",
       "</table>\n",
       "</div>"
      ],
      "text/plain": [
       "                                      original_title  \\\n",
       "0  When Corrections Fail: The Persistence of Poli...   \n",
       "1  A postmodern Pandora's box: anti-vaccination m...   \n",
       "2      Spread of (Mis)Information in Social Networks   \n",
       "\n",
       "                                            abstract  year  citations  \\\n",
       "0  An extensive literature addresses citizen igno...  2010        901   \n",
       "1  The Internet plays a large role in disseminati...  2010        440   \n",
       "2  We provide a model to investigate the tension ...  2010        278   \n",
       "\n",
       "           id  is_EN  \n",
       "0  2132553681      1  \n",
       "1  2117485795      1  \n",
       "2  2120015072      1  "
      ]
     },
     "execution_count": 4,
     "metadata": {},
     "output_type": "execute_result"
    }
   ],
   "source": [
    "df.head(3)"
   ]
  },
  {
   "cell_type": "code",
   "execution_count": 8,
   "metadata": {
    "colab": {
     "base_uri": "https://localhost:8080/"
    },
    "id": "MljadlGpVyRs",
    "outputId": "8f2f5205-772f-4c6b-f445-5dd32350d45e"
   },
   "outputs": [
    {
     "name": "stdout",
     "output_type": "stream",
     "text": [
      "Misinformation, disinformation and fake news papers: 8430\n"
     ]
    }
   ],
   "source": [
    "print(f\"Misinformation, disinformation and fake news papers: {df.id.unique().shape[0]}\")"
   ]
  },
  {
   "cell_type": "markdown",
   "metadata": {
    "id": "VyRG1wZLVyRw"
   },
   "source": [
    "The [Sentence Transformers library](https://github.com/UKPLab/sentence-transformers) offers pretrained transformers that produce SOTA sentence embeddings. Checkout this [spreadsheet](https://docs.google.com/spreadsheets/d/14QplCdTCDwEmTqrn1LH4yrbKvdogK4oQvYO1K1aPR5M/) with all the available models.\n",
    "\n",
    "In this tutorial, we will use the `distilbert-base-nli-stsb-mean-tokens` model which has the best performance on Semantic Textual Similarity tasks among the DistilBERT versions. Moreover, although it's slightly worse than BERT, it is quite faster thanks to having a smaller size.\n",
    "\n",
    "I use the same model in [Orion's semantic search engine](https://www.orion-search.org/)!"
   ]
  },
  {
   "cell_type": "code",
   "execution_count": 5,
   "metadata": {
    "colab": {
     "base_uri": "https://localhost:8080/"
    },
    "id": "PjF6CrwUVyRx",
    "outputId": "db338335-b032-45f2-db21-8e3f53640b86"
   },
   "outputs": [
    {
     "name": "stderr",
     "output_type": "stream",
     "text": [
      "100%|██████████| 245M/245M [00:36<00:00, 6.72MB/s] \n"
     ]
    },
    {
     "name": "stdout",
     "output_type": "stream",
     "text": [
      "cuda:0\n"
     ]
    }
   ],
   "source": [
    "# Instantiate the sentence-level DistilBERT\n",
    "model = SentenceTransformer('distilbert-base-nli-stsb-mean-tokens')\n",
    "# Check if GPU is available and use it\n",
    "if torch.cuda.is_available():\n",
    "    model = model.to(torch.device(\"cuda\"))\n",
    "print(model.device)"
   ]
  },
  {
   "cell_type": "code",
   "execution_count": 6,
   "metadata": {},
   "outputs": [
    {
     "data": {
      "text/plain": [
       "True"
      ]
     },
     "execution_count": 6,
     "metadata": {},
     "output_type": "execute_result"
    }
   ],
   "source": [
    "next(model.parameters()).is_cuda"
   ]
  },
  {
   "cell_type": "code",
   "execution_count": 8,
   "metadata": {
    "colab": {
     "base_uri": "https://localhost:8080/",
     "height": 66,
     "referenced_widgets": [
      "7a7e927567024c578b33b15000d5e531",
      "da5011a6565e45e2b5d0b37634498648",
      "3e9c24c8488b431fb88a0d045d85b700",
      "7aaf8a423e7f48bbac24d6970ed4dfe9",
      "f9c22552944b4e2dafe1f98170665293",
      "15c5bbc768db41e4bc06c9405539091c",
      "1e1408cddd284bc4a4b5484be0561991",
      "7f1cd9dbb4b742ab8d78e073fb9b0f90"
     ]
    },
    "id": "Y_GS0_CWVyR1",
    "outputId": "4deb0814-1ce9-4ea8-8e50-72992e0ea303"
   },
   "outputs": [
    {
     "data": {
      "application/vnd.jupyter.widget-view+json": {
       "model_id": "699994ece245416787fb31b6cccd6f2d",
       "version_major": 2,
       "version_minor": 0
      },
      "text/plain": [
       "HBox(children=(FloatProgress(value=0.0, description='Batches', max=313.0, style=ProgressStyle(description_widt…"
      ]
     },
     "metadata": {},
     "output_type": "display_data"
    },
    {
     "name": "stdout",
     "output_type": "stream",
     "text": [
      "\n"
     ]
    }
   ],
   "source": [
    "# Convert abstracts to vectors\n",
    "embeddings = model.encode(posts.title.to_list(), show_progress_bar=True)"
   ]
  },
  {
   "cell_type": "code",
   "execution_count": 9,
   "metadata": {
    "colab": {
     "base_uri": "https://localhost:8080/"
    },
    "id": "gE7w-RJbVyR6",
    "outputId": "0451849a-88ef-4aee-be2d-e6ff173782f3"
   },
   "outputs": [
    {
     "name": "stdout",
     "output_type": "stream",
     "text": [
      "Shape of the vectorised abstract: (768,)\n"
     ]
    }
   ],
   "source": [
    "print(f'Shape of the vectorised abstract: {embeddings[0].shape}')"
   ]
  },
  {
   "cell_type": "markdown",
   "metadata": {
    "id": "YGV4Je1EVyR_"
   },
   "source": [
    "## Vector similarity search with Faiss\n",
    "[Faiss](https://github.com/facebookresearch/faiss) is a library for efficient similarity search and clustering of dense vectors. It contains algorithms that search in sets of vectors of any size, even ones that do not fit in RAM. \n",
    "    \n",
    "Faiss is built around the `Index` object which contains, and sometimes preprocesses, the searchable vectors. Faiss has a large collection of [indexes](https://github.com/facebookresearch/faiss/wiki/Faiss-indexes). You can even create [composite indexes](https://github.com/facebookresearch/faiss/wiki/Faiss-indexes-(composite)). Faiss handles collections of vectors of a fixed dimensionality d, typically a few 10s to 100s.\n",
    "\n",
    "**Note**: Faiss uses only 32-bit floating point matrices. This means that you will have to change the data type of the input before building the index.\n",
    "\n",
    "To learn more about Faiss, you can read their paper on [arXiv](https://arxiv.org/abs/1702.08734).\n",
    "\n",
    "Here, we will the `IndexFlatL2` index:\n",
    "- It's a simple index that performs a brute-force L2 distance search\n",
    "- It scales linearly. It will work fine with our data but you might want to try [faster indexes](https://github.com/facebookresearch/faiss/wiki/Faster-search) if you work will millions of vectors.\n",
    "\n",
    "To create an index with the `misinformation` abstract vectors, we will:\n",
    "1. Change the data type of the abstract vectors to float32.\n",
    "2. Build an index and pass it the dimension of the vectors it will operate on.\n",
    "3. Pass the index to IndexIDMap, an object that enables us to provide a custom list of IDs for the indexed vectors.\n",
    "4. Add the abstract vectors and their ID mapping to the index. In our case, we will map vectors to their paper IDs from MAG."
   ]
  },
  {
   "cell_type": "code",
   "execution_count": 11,
   "metadata": {
    "colab": {
     "base_uri": "https://localhost:8080/"
    },
    "id": "8kkUDtwHVyR_",
    "outputId": "0f668d02-ef33-4123-ab77-18f72a93ab80"
   },
   "outputs": [
    {
     "name": "stdout",
     "output_type": "stream",
     "text": [
      "Number of vectors in the Faiss index: 10000\n"
     ]
    }
   ],
   "source": [
    "# Step 1: Change data type\n",
    "embeddings = np.array([embedding for embedding in embeddings]).astype(\"float32\")\n",
    "\n",
    "# Step 2: Instantiate the index\n",
    "index = faiss.IndexFlatL2(embeddings.shape[1])\n",
    "\n",
    "# Step 3: Pass the index to IndexIDMap\n",
    "index = faiss.IndexIDMap(index)\n",
    "\n",
    "# Step 4: Add vectors and their IDs\n",
    "index.add_with_ids(embeddings, posts.id.values)\n",
    "\n",
    "print(f\"Number of vectors in the Faiss index: {index.ntotal}\")"
   ]
  },
  {
   "cell_type": "markdown",
   "metadata": {
    "id": "yt1z-433VySE"
   },
   "source": [
    "### Searching the index\n",
    "The index we built will perform a k-nearest-neighbour search. We have to provide the number of neighbours to be returned. \n",
    "\n",
    "Let's query the index with an abstract from our dataset and retrieve the 10 most relevant documents. **The first one must be our query!**\n"
   ]
  },
  {
   "cell_type": "code",
   "execution_count": 13,
   "metadata": {
    "colab": {
     "base_uri": "https://localhost:8080/",
     "height": 106
    },
    "id": "eEeJt7lYVySN",
    "outputId": "771571b3-0200-48b8-f2de-4e8cdbd5ec98"
   },
   "outputs": [
    {
     "data": {
      "text/plain": [
       "'Apache oltu oauth2 ask token over SSL'"
      ]
     },
     "execution_count": 13,
     "metadata": {},
     "output_type": "execute_result"
    }
   ],
   "source": [
    "# Paper abstract\n",
    "posts.iloc[5415, 2]"
   ]
  },
  {
   "cell_type": "code",
   "execution_count": 14,
   "metadata": {
    "colab": {
     "base_uri": "https://localhost:8080/"
    },
    "id": "BSuRcH85VySQ",
    "outputId": "cec93a12-e79c-4f0a-fc15-45048a3469aa"
   },
   "outputs": [
    {
     "name": "stdout",
     "output_type": "stream",
     "text": [
      "L2 distance: [0.0, 126.71707153320312, 127.66409301757812, 141.100341796875, 142.92308044433594, 147.95599365234375, 148.1050567626953, 150.0005645751953, 151.20547485351562, 152.14971923828125]\n",
      "\n",
      "MAG paper IDs: [27707907, 27713521, 27417842, 27605220, 27662868, 27517411, 27694543, 27419107, 27343463, 27737230]\n"
     ]
    }
   ],
   "source": [
    "# Retrieve the 10 nearest neighbours\n",
    "D, I = index.search(np.array([embeddings[5415]]), k=10)\n",
    "print(f'L2 distance: {D.flatten().tolist()}\\n\\nMAG paper IDs: {I.flatten().tolist()}')"
   ]
  },
  {
   "cell_type": "code",
   "execution_count": 16,
   "metadata": {
    "colab": {
     "base_uri": "https://localhost:8080/"
    },
    "id": "SiO1pa4oVySU",
    "outputId": "24c9d1ea-3951-4b4a-e436-c077f3528d7e"
   },
   "outputs": [
    {
     "data": {
      "text/plain": [
       "[['Apache oltu oauth2 ask token over SSL'],\n",
       " ['apache2 external disk permissions'],\n",
       " ['HtmlPurifierBundle How to configure URI.SafeIframeRegexp in config.yml Symfony2?'],\n",
       " ['Davical Sync-Token web request'],\n",
       " ['Meteor DDP SSL/Apache Proxy Connection'],\n",
       " ['apache 2 WWW redirection issue'],\n",
       " ['logging apache httpasyncclient'],\n",
       " ['Apache CXF - WS addressing how to set From, ReplyTo, Headers'],\n",
       " ['git server information or ascii on remote operations (clone)'],\n",
       " ['TokenResponseException - Error:\"invalid_grant\", Description:\"\", Uri:\"\"']]"
      ]
     },
     "execution_count": 16,
     "metadata": {},
     "output_type": "execute_result"
    }
   ],
   "source": [
    "# Fetch the paper titles based on their index\n",
    "id2details(posts, I, 'title')"
   ]
  },
  {
   "cell_type": "code",
   "execution_count": 18,
   "metadata": {
    "colab": {
     "base_uri": "https://localhost:8080/"
    },
    "id": "p29pEtGrWUMV",
    "outputId": "b6448614-0a6a-4673-c841-2bfb0340607e"
   },
   "outputs": [
    {
     "data": {
      "text/plain": [
       "[['<p>Is there a way to request an access token over SSL using Apache oltu?\\nIt works great if I don\\'t use https (port 8443) but just use http...</p>\\n\\n<p>The code I have:</p>\\n\\n<pre><code>OAuthClient oAuthClient = new OAuthClient(new URLConnectionClient());\\n\\nOAuthClientRequest request = OAuthClientRequest.tokenLocation(MessageFormat.format(\"https://{0}:8443/applicationId/oauth/token\", host)) //\\n        .setGrantType(GrantType.PASSWORD) //\\n        .setUsername(\"username\") //\\n        .setPassword(\"password\") //\\n        .setClientId(\"clientId\") //\\n        .buildBodyMessage();\\n\\nOAuthAccessTokenResponse oAuthResponse = oAuthClient.accessToken(request);\\n</code></pre>\\n\\n<p>I get following exception message:</p>\\n\\n<pre><code>    org.apache.oltu.oauth2.common.exception.OAuthSystemException: javax.net.ssl.SSLHandshakeException: java.security.cert.CertificateException: No name matching localhost found\\nat org.apache.oltu.oauth2.client.URLConnectionClient.execute(URLConnectionClient.java:108)\\nat org.apache.oltu.oauth2.client.OAuthClient.accessToken(OAuthClient.java:65)\\nat org.apache.oltu.oauth2.client.OAuthClient.accessToken(OAuthClient.java:55)\\nat org.apache.oltu.oauth2.client.OAuthClient.accessToken(OAuthClient.java:71)\\n</code></pre>\\n\\n<p>I know there is this way to fix this by overwriting the HostnameVerifier of the HttpsURLConnection, but is there a way to achieve this in apache oltu?:</p>\\n\\n<pre><code>static {\\n    //for localhost testing only\\n    javax.net.ssl.HttpsURLConnection.setDefaultHostnameVerifier(\\n    new javax.net.ssl.HostnameVerifier(){\\n\\n        public boolean verify(String hostname,\\n                javax.net.ssl.SSLSession sslSession) {\\n            if (hostname.equals(\"localhost\")) {\\n                return true;\\n            }\\n            return false;\\n        }\\n    });\\n}\\n</code></pre>'],\n",
       " ['<p>currently I have a hard drive on my pc with all my projects, I want my apache server link all my projects through virtual host but gives me access denied, was that the problem is because it is not the primary disk, I can do about it?</p>\\n\\n<p>For example:</p>\\n\\n<p>I use ubuntu 14.04</p>\\n\\n<pre><code>root@MS-7817:/# cat /etc/apache2/sites-available/demo.conf \\n&lt;VirtualHost *:80&gt;\\n    ServerAdmin webmaster@localhost\\n    ServerName demo.local\\n\\n    DocumentRoot /home/me/public_html/demo\\n    &lt;Directory /&gt;\\n        Options FollowSymLinks\\n        AllowOverride None\\n    &lt;/Directory&gt;\\n    &lt;Directory /home/me/public_html/demo/&gt;\\n        Options Indexes FollowSymLinks MultiViews\\n        AllowOverride All\\n        Order allow,deny\\n        Allow from all\\n    &lt;/Directory&gt;\\n\\n    ScriptAlias /cgi-bin/ /usr/lib/cgi-bin/\\n    &lt;Directory \"/usr/lib/cgi-bin\"&gt;\\n        AllowOverride None\\n        Options +ExecCGI -MultiViews +SymLinksIfOwnerMatch\\n        Order allow,deny\\n        Allow from all\\n    &lt;/Directory&gt;\\n\\n    ErrorLog ${APACHE_LOG_DIR}/error.log\\n\\n    LogLevel warn\\n\\n    CustomLog ${APACHE_LOG_DIR}/access.log combined\\n&lt;/VirtualHost&gt;\\n</code></pre>\\n\\n<p>Site is enabled:</p>\\n\\n<pre><code>me@MS-7817:/etc/apache2/sites-enabled$ ll\\ntotal 8\\ndrwxr-xr-x  2 root root 4096 dic 30 17:01 ./\\ndrwxr-xr-x 10 root root 4096 dic 28 03:13 ../\\nlrwxrwxrwx  1 root root   35 dic 27 20:02 000-default.conf -&gt; ../sites-available/000-default.conf\\nlrwxrwxrwx  1 root root   28 dic 30 17:01 demo.conf -&gt; ../sites-available/demo.conf\\n</code></pre>\\n\\n<p>Execute:</p>\\n\\n<pre><code>$ ln -s /media/myuser/projectdisk/demo/www/ /home/myuser/public_html/demo\\n</code></pre>\\n\\n<p>Apply to hosts:</p>\\n\\n<pre><code>root@MS-7817:/# cat /etc/hosts\\n127.0.0.1   localhost\\n127.0.1.1   MS-7817\\n\\n# The following lines are desirable for IPv6 capable hosts\\n::1     ip6-localhost ip6-loopback\\nfe00::0 ip6-localnet\\nff00::0 ip6-mcastprefix\\nff02::1 ip6-allnodes\\nff02::2 ip6-allrouters\\n\\n127.0.0.1   demo.local\\n</code></pre>\\n\\n<p>Files exists:</p>\\n\\n<pre><code>root@MS-7817:/# cd /home/me/public_html/demo\\nroot@MS-7817:/home/me/public_html/demo# ll\\ntotal 100\\ndrwxrwxr-x 2 www-data www-data  4096 dic 30 16:30 ./\\ndrwxrwxr-x 5 me       me        4096 dic 29 13:49 ../\\n-rw-rw-r-- 1 me       me        12921 dic 30 16:30 index.php\\n</code></pre>\\n\\n<p>I use the correct permissions:</p>\\n\\n<pre><code>me@MS-7817:/$ id\\nuid=1000(me) gid=1000(me) grupos=1000(me),4(adm),24(cdrom),27(sudo),30(dip),33(www-data),46(plugdev),108(lpadmin),124(sambashare)\\n</code></pre>\\n\\n<p>Restart apache correctely:</p>\\n\\n<pre><code>me@MS-7817:/$ sudo service apache2 restart\\n[sudo] password for me: \\n * Restarting web server apache2\\n * \\n</code></pre>\\n\\n<p>But not access to <a href=\"http://demo.local/\" rel=\"nofollow\">http://demo.local/</a></p>\\n\\n<pre><code>Forbidden\\n\\nYou don\\'t have permission to access / on this server.\\nApache/2.4.7 (Ubuntu) Server at demo.local Port 80\\n</code></pre>'],\n",
       " ['<p>How to configure HTML.SafeIframe and URI.SafeIframeRegexp in Symfony2 config.yml?</p>\\n\\n<p>I tried:</p>\\n\\n<pre><code>exercise_html_purifier:\\n default:\\n     Cache.SerializerPath: \\'% kernel.cache_dir% / htmlpurifier\\'\\n custom:\\n     Cache.SerializerPath: \\'% kernel.cache_dir% / htmlpurifier\\'\\n     Core.Encoding: \\'utf-8\\'\\n     URI.AllowedSchemes: {http: true}\\n     HTML.SafeIframe: true\\n     URI.SafeIframeRegexp: \\'% ^ (https:) // (www \\\\ .youtube (- nocookie) \\\\ com / embed / | player \\\\ .vimeo \\\\ .com / video /)%\\'\\n</code></pre>\\n\\n<p>But it gives me an error on URI.SafeIframeRegexp:</p>\\n\\n<p>ParameterNotFoundException: You have requested a non-existent parameter \"^ (https:) // (www \\\\ .youtube (- nocookie) \\\\ com / embed / | player \\\\ .vimeo \\\\ .com / video /?).? \".</p>\\n\\n<p>I try this:</p>\\n\\n<pre><code>URI.SafeIframeRegexp: \"/^(https?:)?//(www.youtube(?:-nocookie)?.com/embed/|player.vimeo.com/video/)/\"\\n</code></pre>\\n\\n<p>and this:</p>\\n\\n<pre><code>URI.SafeIframeRegexp: \"^(https?:)?//(www.youtube(?:-nocookie)?.com/embed/|player.vimeo.com/video/)\"\\n</code></pre>\\n\\n<p>and this:</p>\\n\\n<pre><code>URI.SafeIframeRegexp: \"#^(https?:)?//(www\\\\.youtube(?:-nocookie)?\\\\.com/embed/|player\\\\.vimeo\\\\.com/video/)#\"\\n</code></pre>\\n\\n<p>No more error but is still efcaped. In my text I have:</p>\\n\\n<pre><code>&lt;iframe width = \"560\" height = \"315\" src = \"// www.youtube.com/embed/jAHlQ77lm10\" frameborder = \"0\" allowfullscreen&gt; &lt;/ iframe&gt;\\n</code></pre>\\n\\n<p>edit 2: I had :</p>\\n\\n<pre><code>HTML.SafeObject: true\\nOutput.FlashCompat: true\\n</code></pre>\\n\\n<p>but still does not work.</p>\\n\\n<p>edit 3: \\nI tried HTML.Allowed: iframe but even that does not work, for against my other tags were not working.</p>\\n\\n<p>My last config:</p>\\n\\n<pre><code># HTMLPurifier\\nexercise_html_purifier:\\ndefault:\\n    Cache.SerializerPath: \\'%kernel.cache_dir%/htmlpurifier\\'\\ncustom:\\n    Cache.SerializerPath: \\'%kernel.cache_dir%/htmlpurifier\\'\\n    Core.Encoding: \\'utf-8\\'\\n    URI.AllowedSchemes: { http: true }\\n    HTML.SafeObject: true\\n    Output.FlashCompat: true\\n    HTML.SafeIframe: true\\n    URI.SafeIframeRegexp: \"#^(https?:)?//(www\\\\.youtube(?:-nocookie)?\\\\.com/embed/|player\\\\.vimeo\\\\.com/video/)#\"\\n</code></pre>\\n\\n<p>(I also posted this problem here: <a href=\"https://github.com/Exercise/HTMLPurifierBundle/issues/20\" rel=\"nofollow\">https://github.com/Exercise/HTMLPurifierBundle/issues/20</a>)</p>\\n\\n<p>While I want the video to appear.</p>'],\n",
       " ['<p>I am trying not to re-invent the wheel here...</p>\\n\\n<p>I have found some nice documentation on CalDav sync implementation <a href=\"http://sabre.io/dav/building-a-caldav-client/\" rel=\"nofollow\">there</a></p>\\n\\n<p>According to its website, DaviCal is rfc6578-compliant since v. 0.9.8 (see <a href=\"http://wiki.davical.org/w/Release_Notes/0.9.8\" rel=\"nofollow\">here</a>).</p>\\n\\n<p>I therefore first send my request to get the sync token as follows:</p>\\n\\n<pre><code>PROPFIND http://my_cal_srv/user/calendar_path HTTP/1.1\\nContent-Type: application/xml; charset=\"utf-8\"\\n    &lt;?xml version=\"1.0\" encoding=\"utf-8\" ?&gt;\\n      &lt;d:propfind xmlns:d=\\'DAV:\\'&gt; \\n        &lt;d:prop&gt;\\n          &lt;d:displayname /&gt;\\n          &lt;d:sync-token /&gt;\\n        &lt;/d:prop&gt;\\n       &lt;/d:propfind&gt;\\n</code></pre>\\n\\n<p>This returns data as expected:</p>\\n\\n<pre><code>&lt;?xml version=\"1.0\" encoding=\"utf-8\" ?&gt;\\n&lt;multistatus xmlns=\"DAV:\"&gt;\\n &lt;response&gt;\\n  &lt;href&gt;/caldav.php/user/calendar_path/&lt;/href&gt;\\n  &lt;propstat&gt;\\n   &lt;prop&gt;\\n    &lt;displayname&gt;My Calendar&lt;/displayname&gt;\\n    &lt;sync-token&gt;data:,9&lt;/sync-token&gt;\\n   &lt;/prop&gt;\\n   &lt;status&gt;HTTP/1.1 200 OK&lt;/status&gt;\\n  &lt;/propstat&gt;\\n &lt;/response&gt;\\n&lt;/multistatus&gt;\\n</code></pre>\\n\\n<p>So far so good, I have a token, it\\'s \"data: ,9\". So, let\\'s just try to get changes since 8, the token I had when I queried the server prior to adding some event.</p>\\n\\n<pre><code>REPORT http://my_cal_srv/user/calendar_path HTTP/1.1\\nContent-Type: application/xml; charset=\"utf-8\"\\n&lt;?xml version=\"1.0\" encoding=\"utf-8\" ?&gt;\\n&lt;d:sync-collection xmlns:d=\"DAV:\"&gt;\\n  &lt;d:sync-token&gt;8&lt;/d:sync-token&gt;\\n  &lt;d:sync-level&gt;1&lt;/d:sync-level&gt;\\n  &lt;d:prop&gt;\\n    &lt;d:getetag/&gt;\\n  &lt;/d:prop&gt;\\n&lt;/d:sync-collection&gt;\\n</code></pre>\\n\\n<p>The answer is:</p>\\n\\n<pre><code>&lt;?xml version=\"1.0\" encoding=\"utf-8\" ?&gt;\\n&lt;multistatus xmlns=\"DAV:\"&gt;\\n &lt;response&gt;\\n  &lt;href&gt;/caldav.php/user/path/86166f9c-3e2e-4242-9a28-0f3bfb1dd67a-caldavsyncadapter.ics&lt;/href&gt;\\n  &lt;propstat&gt;\\n   &lt;prop&gt;\\n    &lt;getetag&gt;\"5ed2101b0c867e490dbd71d40c7071bb\"&lt;/getetag&gt;\\n   &lt;/prop&gt;\\n   &lt;status&gt;HTTP/1.1 200 OK&lt;/status&gt;\\n  &lt;/propstat&gt;\\n &lt;/response&gt;\\n &lt;response&gt;\\n  &lt;href&gt;/caldav.php/user/path/cb354fab-b41d-49ad-8a4f-8d68c9090ea0.ics&lt;/href&gt;\\n  &lt;propstat&gt;\\n   &lt;prop&gt;\\n    &lt;getetag&gt;\"334892703f4151024e9232eab9b515a7\"&lt;/getetag&gt;\\n   &lt;/prop&gt;\\n   &lt;status&gt;HTTP/1.1 200 OK&lt;/status&gt;\\n  &lt;/propstat&gt;\\n &lt;/response&gt;\\n &lt;sync-token&gt;data:,9&lt;/sync-token&gt;\\n&lt;/multistatus&gt;\\n</code></pre>\\n\\n<p>After deleting an entry (so I get sync-token 10, and still compare using token 8), I get following result :</p>\\n\\n<pre><code>&lt;?xml version=\"1.0\" encoding=\"utf-8\" ?&gt;\\n&lt;multistatus xmlns=\"DAV:\"&gt;\\n &lt;response&gt;\\n  &lt;href&gt;/caldav.php/user/cal_path/86166f9c-3e2e-4242-9a28-0f3bfb1dd67a-caldavsyncadapter.ics&lt;/href&gt;\\n  &lt;status&gt;HTTP/1.1 404 Not Found&lt;/status&gt;\\n &lt;/response&gt;\\n &lt;response&gt;\\n  &lt;href&gt;/caldav.php/user/cal_path/cb354fab-b41d-49ad-8a4f-8d68c9090ea0.ics&lt;/href&gt;\\n  &lt;propstat&gt;\\n   &lt;prop&gt;\\n    &lt;getetag&gt;\"334892703f4151024e9232eab9b515a7\"&lt;/getetag&gt;\\n   &lt;/prop&gt;\\n   &lt;status&gt;HTTP/1.1 200 OK&lt;/status&gt;\\n  &lt;/propstat&gt;\\n &lt;/response&gt;\\n &lt;sync-token&gt;data:,10&lt;/sync-token&gt;\\n&lt;/multistatus&gt;\\n</code></pre>\\n\\n<p>So I am a little confused here as I don\\'t really know how to interpret these results... </p>\\n\\n<p>Could anybody please explain to me how to extract the sync info from here? It is a little hard to figure out the changes types because the ICS namings are unclear... </p>\\n\\n<p>Thanks in advance for helping out... And merry X-Mas !\\nRegards,\\nN.</p>'],\n",
       " ['<p>I have Debian host that runs my Meteor application on NodeJS that listens: 127.0.0.1:3999\\nI also have a domain register <a href=\"https://example.com\" rel=\"nofollow\">https://example.com</a> that welcomed with Apache and proxied to my Meteor application.</p>\\n\\n<p>I have problem with DDP Connection.\\nmy connection link is <code>ws://example.com/websocket</code></p>\\n\\n<p>I set the ProxyPass settings as following:<Code></p>\\n\\n<pre><code> &lt;VirtualHost *:443&gt;\\n      ServerName example.com\\n      ServerAlias www.example.com\\n\\n      SSLEngine on\\n      SSLProxyEngine On\\n      ProxyRequests Off\\n\\n      SSLCertificateFile /etc/apache2/ssl/www.example.crt\\n      SSLCertificateKeyFile /etc/apache2/ssl/www.example.key\\n      SSLCertificateChainFile /etc/apache2/ssl/sub.class1.server.ca.pem\\n\\n      ProxyPass /websocket ws://localhost:3999/websocket\\n      ProxyPassReverse /websocket ws://localhost:3999/websocket\\n\\n      ProxyPassMatch ^/sockjs/(.*)/websocket ws://localhost:3999/sockjs/$1/websocket\\n      ProxyPass / http://localhost:3999/\\n      ProxyPassReverse / http://localhost:3999/\\n\\n      BrowserMatch \"MSIE [2-6]\" \\\\\\n           nokeepalive ssl-unclean-shutdown \\\\\\n           downgrade-1.0 force-response-1.0\\n      # MSIE 7 and newer should be able to use keepalive\\n      BrowserMatch \"MSIE [17-9]\" ssl-unclean-shutdown\\n &lt;/VirtualHost&gt;\\n</code></pre>\\n\\n<p></Code>\\nAnd\\n<Code></p>\\n\\n<pre><code> &lt;VirtualHost *:80&gt;\\n      ServerName example.com\\n      ServerAlias www.example.com\\n      ProxyRequests off\\n\\n\\n       RewriteEngine on\\n       ReWriteCond %{SERVER_PORT} !^443$\\n\\n       # This allows DDP clients like ObjectiveDDP and Meteor-Unity to connect\\n       RewriteRule ^/websocket wss://%{HTTP_HOST}/websocket [NC,R,L]\\n\\n       # This allows the meteor webapp to connect\\n       RewriteRule ^/sockjs/(.*)/websocket wss://%{HTTP_HOST}/sockjs/$1/websocket [NC,R,L]\\n       RewriteRule ^/(.*) https://%{HTTP_HOST}/$1 [NC,R,L]\\n &lt;/VirtualHost&gt;\\n</code></pre>\\n\\n<p></Code></p>'],\n",
       " ['<p>This is my /etc/apache2/sites-availables/mysite.com file configuration</p>\\n\\n<p></p>\\n\\n<pre><code>ServerAdmin LOLILOL@LOL.com\\n\\nServerName www.example.com\\nRedirect permanent / http://www.example.com/\\n\\nServerAlias example.com\\n\\nDocumentRoot /home/example/www\\nSuexecUserGroup example example\\n&lt;Directory /&gt;\\n\\nOptions Indexes FollowSymLinks Includes ExecCGI\\nAllowOverride All\\nOrder deny,allow\\nAllow from all\\n&lt;/Directory&gt;\\n&lt;Directory /home/example/www&gt;\\n    Options FollowSymLinks MultiViews\\n    AllowOverride All\\n    Order allow,deny\\n    allow from all\\n&lt;/Directory&gt;\\nErrorLog ${APACHE_LOG_DIR}/error.log\\nLogLevel warn\\nCustomLog ${APACHE_LOG_DIR}/access.log combined\\n</code></pre>\\n\\n<p></p>\\n\\n<p>Please can Someone tell my where to find the issue to redirect non www to www ?</p>\\n\\n<p><B>PS : I can\\'t acces to my site from <a href=\"http://example.com\" rel=\"nofollow\">http://example.com</a> (Only from <a href=\"http://www.example.com\" rel=\"nofollow\">http://www.example.com</a></B>/)</p>\\n\\n<p>HELP ME PLEASE !!!!</p>'],\n",
       " ['<p>Hi I followed the instructions here: <a href=\"http://hc.apache.org/httpclient-3.x/logging.html\" rel=\"nofollow\">http://hc.apache.org/httpclient-3.x/logging.html</a> since it was the only logging instructions I could find on the site, but I was still not able to turn logging on for the httpasyncclient. It works for the typical httpclient, not async. Thanks.</p>'],\n",
       " [\"<p>I have a question: we are trying to implement WS-Addressing with Apache CXF. I am able to set some headers like To, or Action, but I don't find the way to set others like From, ReplyTo, or FaultTo. </p>\\n\\n<p>Does anybody know how to do it?</p>\"],\n",
       " ['<p>How can I configure my git server to display additional information or ascii art on remote operations such as clone ? </p>\\n\\n<p>An example would be on <a href=\"http://blogs.msdn.com/b/phkelley/archive/2014/01/20/adding-a-corporate-or-self-signed-certificate-authority-to-git-exe-s-store.aspx\" rel=\"nofollow\">this page</a> and is shown below.</p>\\n\\n<pre><code>F:\\\\&gt;git clone https://myserver/tfs/DefaultCollection/_git/Proj \\nUsername for \\'https://myserver\\': domain\\\\username \\nPassword for \\'https://domain\\\\username@myserver\\': \\nremote: \\nremote:                    fTfs \\nremote:                  fSSSSSSSs \\nremote:                fSSSSSSSSSS \\nremote: TSSf         fSSSSSSSSSSSS \\nremote: SSSSSF     fSSSSSSST SSSSS \\nremote: SSfSSSSSsfSSSSSSSt   SSSSS \\nremote: SS  tSSSSSSSSSs      SSSSS \\nremote: SS   fSSSSSSST       SSSSS \\nremote: SS fSSSSSFSSSSSSf    SSSSS \\nremote: SSSSSST    FSSSSSSFt SSSSS \\nremote: SSSSt        FSSSSSSSSSSSS \\nremote:                FSSSSSSSSSS \\nremote:                  FSSSSSSs \\nremote:                    FSFs    (TM) \\nremote: \\nremote:  Microsoft (R) Visual Studio (R) Team Foundation Server \\nremote: \\nReceiving objects: 100% (6781/6781), 47.12 MiB | 32.56 MiB/s, done. \\nResolving deltas: 100% (4553/4553), done. \\nChecking connectivity... done\\n</code></pre>\\n\\n<p>Thanks in advance for your help.</p>'],\n",
       " ['<p>I have code that works - MVC app using Google Calendar API and Gmail API with OAuth2 Authentication from Google. The code works. When the page is loaded the data from both services is displayed. And I have a Javascript timer to refresh the data with certain interval (20 min). So everything works as expected until at some point of time (after some time interval I guess) it starts throwing an exception: <strong>Error:\"invalid_grant\", Description:\"\", Uri:\"\"</strong>. The exception has no InnerException and has only that error message and this info in StackTrace (here on the screenshot):</p>\\n\\n<p><img src=\"https://i.stack.imgur.com/9nnkS.png\" alt=\"enter image description here\"></p>\\n\\n<p>I would really appreciate if someone has an idea what could be the reason for that error. And what is that \"c:\\\\code\\\\google.com....\" line in stack trace message, I have no \"c:\\\\code\" folder on my disk. I have found a few posts related to the same error, but unfortunately <em>they didn\\'t help to understand the problem</em>. Maybe with more details like this screenshot someone has more info on the subject. Thanks a lot.</p>\\n\\n<p>What I found out - is that AppPool recycling <strong>temporary</strong> solves the problem. But then, after some time, it comes back again. What doest it have to do with AppPool recycling? </p>']]"
      ]
     },
     "execution_count": 18,
     "metadata": {},
     "output_type": "execute_result"
    }
   ],
   "source": [
    "# Fetch the paper abstracts based on their index\n",
    "id2details(posts, I, 'body')"
   ]
  },
  {
   "cell_type": "markdown",
   "metadata": {
    "id": "gFKvRb4QY-DL"
   },
   "source": [
    "\n",
    "## Putting all together\n",
    "\n",
    "So far, we've built a Faiss index using the misinformation abstract vectors we encoded with a sentence-DistilBERT model. That's helpful but in a real case scenario, we would have to work with unseen data. To query the index with an unseen query and retrieve its most relevant documents, we would have to do the following:\n",
    "\n",
    "1. Encode the query with the same sentence-DistilBERT model we used for the rest of the abstract vectors.\n",
    "2. Change its data type to float32.\n",
    "3. Search the index with the encoded query.\n",
    "\n",
    "Here, we will use the introduction of an article published on [HKS Misinformation Review](https://misinforeview.hks.harvard.edu/article/can-whatsapp-benefit-from-debunked-fact-checked-stories-to-reduce-misinformation/).\n"
   ]
  },
  {
   "cell_type": "code",
   "execution_count": 17,
   "metadata": {
    "id": "iDhftkrhX99T"
   },
   "outputs": [],
   "source": [
    "user_query = \"\"\"\n",
    "WhatsApp was alleged to have been widely used to spread misinformation and propaganda \n",
    "during the 2018 elections in Brazil and the 2019 elections in India. Due to the \n",
    "private encrypted nature of the messages on WhatsApp, it is hard to track the dissemination \n",
    "of misinformation at scale. In this work, using public WhatsApp data from Brazil and India, we \n",
    "observe that misinformation has been largely shared on WhatsApp public groups even after they \n",
    "were already fact-checked by popular fact-checking agencies. This represents a significant portion \n",
    "of misinformation spread in both Brazil and India in the groups analyzed. We posit that such \n",
    "misinformation content could be prevented if WhatsApp had a means to flag already fact-checked \n",
    "content. To this end, we propose an architecture that could be implemented by WhatsApp to counter \n",
    "such misinformation. Our proposal respects the current end-to-end encryption architecture on WhatsApp, \n",
    "thus protecting users’ privacy while providing an approach to detect the misinformation that benefits \n",
    "from fact-checking efforts.\n",
    "\"\"\""
   ]
  },
  {
   "cell_type": "code",
   "execution_count": 18,
   "metadata": {
    "colab": {
     "base_uri": "https://localhost:8080/"
    },
    "id": "6AFhbGnWZpWN",
    "outputId": "b8a02af0-2f0d-4740-984a-e804405b3e6a"
   },
   "outputs": [
    {
     "name": "stdout",
     "output_type": "stream",
     "text": [
      "L2 distance: [7.384466171264648, 57.3224983215332, 57.3224983215332, 71.48453521728516, 72.06803131103516, 79.13472747802734, 86.0128173828125, 89.91024780273438, 90.76014709472656, 90.76422119140625]\n",
      "\n",
      "MAG paper IDs: [3047438096, 3021927925, 3037966274, 2889959140, 2791045616, 2943077655, 3014380170, 2967434249, 3028584171, 2990343632]\n"
     ]
    }
   ],
   "source": [
    "# For convenience, I've wrapped all steps in the vector_search function.\n",
    "# It takes four arguments: \n",
    "# A query, the sentence-level transformer, the Faiss index and the number of requested results\n",
    "D, I = vector_search([user_query], model, index, num_results=10)\n",
    "print(f'L2 distance: {D.flatten().tolist()}\\n\\nMAG paper IDs: {I.flatten().tolist()}')"
   ]
  },
  {
   "cell_type": "code",
   "execution_count": 19,
   "metadata": {
    "colab": {
     "base_uri": "https://localhost:8080/"
    },
    "id": "tbanjBhBZtWZ",
    "outputId": "9a5d6d97-8983-4253-8095-b7d899e33ac8"
   },
   "outputs": [
    {
     "data": {
      "text/plain": [
       "[['Can WhatsApp Benefit from Debunked Fact-Checked Stories to Reduce Misinformation?'],\n",
       " ['A Dataset of Fact-Checked Images Shared on WhatsApp During the Brazilian and Indian Elections'],\n",
       " ['A Dataset of Fact-Checked Images Shared on WhatsApp During the Brazilian and Indian Elections'],\n",
       " ['A System for Monitoring Public Political Groups in WhatsApp'],\n",
       " ['Politics of Fake News: How WhatsApp Became a Potent Propaganda Tool in India'],\n",
       " ['Characterizing Attention Cascades in WhatsApp Groups'],\n",
       " ['OS IMPACTOS JURÍDICOS E SOCIAIS DAS FAKE NEWS EM TERRITÓRIO BRASILEIRO'],\n",
       " ['Fake News and Social Media: Indian Perspective'],\n",
       " ['Images and Misinformation in Political Groups: Evidence from WhatsApp in India'],\n",
       " ['Can WhatsApp Counter Misinformation by Limiting Message Forwarding']]"
      ]
     },
     "execution_count": 19,
     "metadata": {
      "tags": []
     },
     "output_type": "execute_result"
    }
   ],
   "source": [
    "# Fetching the paper titles based on their index\n",
    "id2details(df, I, 'original_title')"
   ]
  },
  {
   "cell_type": "code",
   "execution_count": 19,
   "metadata": {
    "colab": {
     "base_uri": "https://localhost:8080/"
    },
    "id": "rbxFKF-DZxg0",
    "outputId": "d78cdc03-41f6-469d-bf67-8f32001a7415"
   },
   "outputs": [
    {
     "name": "stdout",
     "output_type": "stream",
     "text": [
      "/home/ryanwesslen/PycharmProjects/vector_engine\n"
     ]
    }
   ],
   "source": [
    "# Define project base directory\n",
    "# Change the index from 1 to 0 if you run this on Google Colab\n",
    "project_dir = Path('notebooks').resolve().parents[1]\n",
    "print(project_dir)\n",
    "\n",
    "# Serialise index and store it as a pickle\n",
    "with open(f\"{project_dir}/models/stack_faiss_index.pickle\", \"wb\") as h:\n",
    "    pickle.dump(faiss.serialize_index(index), h)"
   ]
  },
  {
   "cell_type": "code",
   "execution_count": null,
   "metadata": {
    "id": "AtSC6oDDjtMA"
   },
   "outputs": [],
   "source": []
  }
 ],
 "metadata": {
  "accelerator": "GPU",
  "colab": {
   "name": "001-vector-search.ipynb",
   "provenance": [],
   "toc_visible": true
  },
  "kernelspec": {
   "display_name": "Python 3",
   "language": "python",
   "name": "python3"
  },
  "language_info": {
   "codemirror_mode": {
    "name": "ipython",
    "version": 3
   },
   "file_extension": ".py",
   "mimetype": "text/x-python",
   "name": "python",
   "nbconvert_exporter": "python",
   "pygments_lexer": "ipython3",
   "version": "3.8.3"
  },
  "widgets": {
   "application/vnd.jupyter.widget-state+json": {
    "15c5bbc768db41e4bc06c9405539091c": {
     "model_module": "@jupyter-widgets/base",
     "model_name": "LayoutModel",
     "state": {
      "_model_module": "@jupyter-widgets/base",
      "_model_module_version": "1.2.0",
      "_model_name": "LayoutModel",
      "_view_count": null,
      "_view_module": "@jupyter-widgets/base",
      "_view_module_version": "1.2.0",
      "_view_name": "LayoutView",
      "align_content": null,
      "align_items": null,
      "align_self": null,
      "border": null,
      "bottom": null,
      "display": null,
      "flex": null,
      "flex_flow": null,
      "grid_area": null,
      "grid_auto_columns": null,
      "grid_auto_flow": null,
      "grid_auto_rows": null,
      "grid_column": null,
      "grid_gap": null,
      "grid_row": null,
      "grid_template_areas": null,
      "grid_template_columns": null,
      "grid_template_rows": null,
      "height": null,
      "justify_content": null,
      "justify_items": null,
      "left": null,
      "margin": null,
      "max_height": null,
      "max_width": null,
      "min_height": null,
      "min_width": null,
      "object_fit": null,
      "object_position": null,
      "order": null,
      "overflow": null,
      "overflow_x": null,
      "overflow_y": null,
      "padding": null,
      "right": null,
      "top": null,
      "visibility": null,
      "width": null
     }
    },
    "1e1408cddd284bc4a4b5484be0561991": {
     "model_module": "@jupyter-widgets/controls",
     "model_name": "DescriptionStyleModel",
     "state": {
      "_model_module": "@jupyter-widgets/controls",
      "_model_module_version": "1.5.0",
      "_model_name": "DescriptionStyleModel",
      "_view_count": null,
      "_view_module": "@jupyter-widgets/base",
      "_view_module_version": "1.2.0",
      "_view_name": "StyleView",
      "description_width": ""
     }
    },
    "3e9c24c8488b431fb88a0d045d85b700": {
     "model_module": "@jupyter-widgets/controls",
     "model_name": "FloatProgressModel",
     "state": {
      "_dom_classes": [],
      "_model_module": "@jupyter-widgets/controls",
      "_model_module_version": "1.5.0",
      "_model_name": "FloatProgressModel",
      "_view_count": null,
      "_view_module": "@jupyter-widgets/controls",
      "_view_module_version": "1.5.0",
      "_view_name": "ProgressView",
      "bar_style": "success",
      "description": "Batches: 100%",
      "description_tooltip": null,
      "layout": "IPY_MODEL_15c5bbc768db41e4bc06c9405539091c",
      "max": 264,
      "min": 0,
      "orientation": "horizontal",
      "style": "IPY_MODEL_f9c22552944b4e2dafe1f98170665293",
      "value": 264
     }
    },
    "7a7e927567024c578b33b15000d5e531": {
     "model_module": "@jupyter-widgets/controls",
     "model_name": "HBoxModel",
     "state": {
      "_dom_classes": [],
      "_model_module": "@jupyter-widgets/controls",
      "_model_module_version": "1.5.0",
      "_model_name": "HBoxModel",
      "_view_count": null,
      "_view_module": "@jupyter-widgets/controls",
      "_view_module_version": "1.5.0",
      "_view_name": "HBoxView",
      "box_style": "",
      "children": [
       "IPY_MODEL_3e9c24c8488b431fb88a0d045d85b700",
       "IPY_MODEL_7aaf8a423e7f48bbac24d6970ed4dfe9"
      ],
      "layout": "IPY_MODEL_da5011a6565e45e2b5d0b37634498648"
     }
    },
    "7aaf8a423e7f48bbac24d6970ed4dfe9": {
     "model_module": "@jupyter-widgets/controls",
     "model_name": "HTMLModel",
     "state": {
      "_dom_classes": [],
      "_model_module": "@jupyter-widgets/controls",
      "_model_module_version": "1.5.0",
      "_model_name": "HTMLModel",
      "_view_count": null,
      "_view_module": "@jupyter-widgets/controls",
      "_view_module_version": "1.5.0",
      "_view_name": "HTMLView",
      "description": "",
      "description_tooltip": null,
      "layout": "IPY_MODEL_7f1cd9dbb4b742ab8d78e073fb9b0f90",
      "placeholder": "​",
      "style": "IPY_MODEL_1e1408cddd284bc4a4b5484be0561991",
      "value": " 264/264 [00:31&lt;00:00,  8.30it/s]"
     }
    },
    "7f1cd9dbb4b742ab8d78e073fb9b0f90": {
     "model_module": "@jupyter-widgets/base",
     "model_name": "LayoutModel",
     "state": {
      "_model_module": "@jupyter-widgets/base",
      "_model_module_version": "1.2.0",
      "_model_name": "LayoutModel",
      "_view_count": null,
      "_view_module": "@jupyter-widgets/base",
      "_view_module_version": "1.2.0",
      "_view_name": "LayoutView",
      "align_content": null,
      "align_items": null,
      "align_self": null,
      "border": null,
      "bottom": null,
      "display": null,
      "flex": null,
      "flex_flow": null,
      "grid_area": null,
      "grid_auto_columns": null,
      "grid_auto_flow": null,
      "grid_auto_rows": null,
      "grid_column": null,
      "grid_gap": null,
      "grid_row": null,
      "grid_template_areas": null,
      "grid_template_columns": null,
      "grid_template_rows": null,
      "height": null,
      "justify_content": null,
      "justify_items": null,
      "left": null,
      "margin": null,
      "max_height": null,
      "max_width": null,
      "min_height": null,
      "min_width": null,
      "object_fit": null,
      "object_position": null,
      "order": null,
      "overflow": null,
      "overflow_x": null,
      "overflow_y": null,
      "padding": null,
      "right": null,
      "top": null,
      "visibility": null,
      "width": null
     }
    },
    "da5011a6565e45e2b5d0b37634498648": {
     "model_module": "@jupyter-widgets/base",
     "model_name": "LayoutModel",
     "state": {
      "_model_module": "@jupyter-widgets/base",
      "_model_module_version": "1.2.0",
      "_model_name": "LayoutModel",
      "_view_count": null,
      "_view_module": "@jupyter-widgets/base",
      "_view_module_version": "1.2.0",
      "_view_name": "LayoutView",
      "align_content": null,
      "align_items": null,
      "align_self": null,
      "border": null,
      "bottom": null,
      "display": null,
      "flex": null,
      "flex_flow": null,
      "grid_area": null,
      "grid_auto_columns": null,
      "grid_auto_flow": null,
      "grid_auto_rows": null,
      "grid_column": null,
      "grid_gap": null,
      "grid_row": null,
      "grid_template_areas": null,
      "grid_template_columns": null,
      "grid_template_rows": null,
      "height": null,
      "justify_content": null,
      "justify_items": null,
      "left": null,
      "margin": null,
      "max_height": null,
      "max_width": null,
      "min_height": null,
      "min_width": null,
      "object_fit": null,
      "object_position": null,
      "order": null,
      "overflow": null,
      "overflow_x": null,
      "overflow_y": null,
      "padding": null,
      "right": null,
      "top": null,
      "visibility": null,
      "width": null
     }
    },
    "f9c22552944b4e2dafe1f98170665293": {
     "model_module": "@jupyter-widgets/controls",
     "model_name": "ProgressStyleModel",
     "state": {
      "_model_module": "@jupyter-widgets/controls",
      "_model_module_version": "1.5.0",
      "_model_name": "ProgressStyleModel",
      "_view_count": null,
      "_view_module": "@jupyter-widgets/base",
      "_view_module_version": "1.2.0",
      "_view_name": "StyleView",
      "bar_color": null,
      "description_width": "initial"
     }
    }
   }
  }
 },
 "nbformat": 4,
 "nbformat_minor": 4
}
